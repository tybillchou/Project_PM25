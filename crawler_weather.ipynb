{
 "cells": [
  {
   "cell_type": "code",
   "execution_count": 1,
   "metadata": {},
   "outputs": [],
   "source": [
    "import requests\n",
    "from bs4 import BeautifulSoup\n",
    "import json\n",
    "import os\n",
    "import csv\n",
    "\n",
    "import ssl\n",
    "ssl._create_default_https_context = ssl._create_unverified_context"
   ]
  },
  {
   "cell_type": "code",
   "execution_count": 2,
   "metadata": {},
   "outputs": [],
   "source": [
    "useragent ='Mozilla/5.0 (Macintosh; Intel Mac OS X 10_14_6) AppleWebKit/537.36 (KHTML, like Gecko) Chrome/77.0.3865.90 Safari/537.36'\n",
    "headers = {'User-Agent' : useragent }\n",
    "url = 'https://opendata.cwb.gov.tw/api/v1/rest/datastore/F-D0047-007?Authorization=rdec-key-123-45678-011121314'\n",
    "res = requests.get(url,headers=headers)\n",
    "soup = BeautifulSoup(res.text,'html.parser')"
   ]
  },
  {
   "cell_type": "code",
   "execution_count": 3,
   "metadata": {},
   "outputs": [],
   "source": [
    "js = json.loads(str(soup))"
   ]
  },
  {
   "cell_type": "code",
   "execution_count": 4,
   "metadata": {},
   "outputs": [],
   "source": [
    "city = js['records']['locations'][0]['location']"
   ]
  },
  {
   "cell_type": "code",
   "execution_count": 5,
   "metadata": {},
   "outputs": [],
   "source": [
    "for i in city:\n",
    "    location = i['locationName']\n",
    "    weather = i['weatherElement']\n",
    "    for j in weather:\n",
    "        descript = j['description']\n",
    "        elementname = j['elementName']\n",
    "        time = j['time']\n",
    "        for k in time:\n",
    "            star = k['startTime']\n",
    "            end = k['endTime']\n",
    "            elementvalue = k['elementValue']\n",
    "            for l in elementvalue:\n",
    "                value = l['value']\n",
    "                measure = l['measures']       \n",
    "                data = [('地區:{},{}{}:{}{},開始時間:{},結束時間:{}'.format(location,descript,elementname,value,measure,star,end))]\n",
    "                with open('weather_12hr.csv' , 'a+' , newline='',encoding = 'utf-8') as csvfile :\n",
    "                    writer = csv.writer(csvfile)\n",
    "                    writer.writerow(data)"
   ]
  },
  {
   "cell_type": "code",
   "execution_count": null,
   "metadata": {},
   "outputs": [],
   "source": []
  }
 ],
 "metadata": {
  "kernelspec": {
   "display_name": "Python 3",
   "language": "python",
   "name": "python3"
  },
  "language_info": {
   "codemirror_mode": {
    "name": "ipython",
    "version": 3
   },
   "file_extension": ".py",
   "mimetype": "text/x-python",
   "name": "python",
   "nbconvert_exporter": "python",
   "pygments_lexer": "ipython3",
   "version": "3.6.8"
  }
 },
 "nbformat": 4,
 "nbformat_minor": 2
}
