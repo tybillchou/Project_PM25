{
 "cells": [
  {
   "cell_type": "code",
   "execution_count": 1,
   "metadata": {},
   "outputs": [
    {
     "name": "stderr",
     "output_type": "stream",
     "text": [
      "Using TensorFlow backend.\n"
     ]
    }
   ],
   "source": [
    "import numpy as np\n",
    "import pandas as pd\n",
    "from keras.models import Sequential\n",
    "from keras.layers import Dense\n",
    "import tensorflow as tf\n",
    "from scipy.stats import zscore "
   ]
  },
  {
   "cell_type": "code",
   "execution_count": 2,
   "metadata": {},
   "outputs": [],
   "source": [
    "df = pd.read_csv('/Users/tybillchou/Documents/projectpm25/pm25/new/lt_106107_pm25_comp.csv',encoding='utf-8')"
   ]
  },
  {
   "cell_type": "code",
   "execution_count": 3,
   "metadata": {
    "scrolled": true
   },
   "outputs": [
    {
     "data": {
      "text/html": [
       "<div>\n",
       "<style scoped>\n",
       "    .dataframe tbody tr th:only-of-type {\n",
       "        vertical-align: middle;\n",
       "    }\n",
       "\n",
       "    .dataframe tbody tr th {\n",
       "        vertical-align: top;\n",
       "    }\n",
       "\n",
       "    .dataframe thead th {\n",
       "        text-align: right;\n",
       "    }\n",
       "</style>\n",
       "<table border=\"1\" class=\"dataframe\">\n",
       "  <thead>\n",
       "    <tr style=\"text-align: right;\">\n",
       "      <th></th>\n",
       "      <th>Unnamed: 0</th>\n",
       "      <th>ID</th>\n",
       "      <th>station</th>\n",
       "      <th>Year</th>\n",
       "      <th>Month</th>\n",
       "      <th>Day</th>\n",
       "      <th>Time</th>\n",
       "      <th>AMB_TEMP</th>\n",
       "      <th>CO</th>\n",
       "      <th>NO</th>\n",
       "      <th>...</th>\n",
       "      <th>O3</th>\n",
       "      <th>PM10</th>\n",
       "      <th>PM2.5</th>\n",
       "      <th>RAINFALL</th>\n",
       "      <th>RH</th>\n",
       "      <th>SO2</th>\n",
       "      <th>WD_HR</th>\n",
       "      <th>WIND_DIREC</th>\n",
       "      <th>WIND_SPEED</th>\n",
       "      <th>WS_HR</th>\n",
       "    </tr>\n",
       "  </thead>\n",
       "  <tbody>\n",
       "    <tr>\n",
       "      <th>0</th>\n",
       "      <td>0</td>\n",
       "      <td>lt2017010100</td>\n",
       "      <td>龍潭</td>\n",
       "      <td>2017</td>\n",
       "      <td>1</td>\n",
       "      <td>1</td>\n",
       "      <td>0</td>\n",
       "      <td>18</td>\n",
       "      <td>0.20</td>\n",
       "      <td>0</td>\n",
       "      <td>...</td>\n",
       "      <td>34</td>\n",
       "      <td>25</td>\n",
       "      <td>16</td>\n",
       "      <td>0</td>\n",
       "      <td>77</td>\n",
       "      <td>2</td>\n",
       "      <td>東北</td>\n",
       "      <td>東</td>\n",
       "      <td>緩風</td>\n",
       "      <td>緩風</td>\n",
       "    </tr>\n",
       "    <tr>\n",
       "      <th>1</th>\n",
       "      <td>1</td>\n",
       "      <td>lt2017010101</td>\n",
       "      <td>龍潭</td>\n",
       "      <td>2017</td>\n",
       "      <td>1</td>\n",
       "      <td>1</td>\n",
       "      <td>1</td>\n",
       "      <td>18</td>\n",
       "      <td>0.22</td>\n",
       "      <td>0</td>\n",
       "      <td>...</td>\n",
       "      <td>33</td>\n",
       "      <td>20</td>\n",
       "      <td>13</td>\n",
       "      <td>0</td>\n",
       "      <td>79</td>\n",
       "      <td>1</td>\n",
       "      <td>東北</td>\n",
       "      <td>東</td>\n",
       "      <td>微風</td>\n",
       "      <td>微風</td>\n",
       "    </tr>\n",
       "    <tr>\n",
       "      <th>2</th>\n",
       "      <td>2</td>\n",
       "      <td>lt2017010102</td>\n",
       "      <td>龍潭</td>\n",
       "      <td>2017</td>\n",
       "      <td>1</td>\n",
       "      <td>1</td>\n",
       "      <td>2</td>\n",
       "      <td>18</td>\n",
       "      <td>0.23</td>\n",
       "      <td>0</td>\n",
       "      <td>...</td>\n",
       "      <td>31</td>\n",
       "      <td>23</td>\n",
       "      <td>16</td>\n",
       "      <td>0</td>\n",
       "      <td>80</td>\n",
       "      <td>1</td>\n",
       "      <td>東</td>\n",
       "      <td>東北</td>\n",
       "      <td>微風</td>\n",
       "      <td>微風</td>\n",
       "    </tr>\n",
       "    <tr>\n",
       "      <th>3</th>\n",
       "      <td>3</td>\n",
       "      <td>lt2017010103</td>\n",
       "      <td>龍潭</td>\n",
       "      <td>2017</td>\n",
       "      <td>1</td>\n",
       "      <td>1</td>\n",
       "      <td>3</td>\n",
       "      <td>17</td>\n",
       "      <td>0.28</td>\n",
       "      <td>0</td>\n",
       "      <td>...</td>\n",
       "      <td>26</td>\n",
       "      <td>25</td>\n",
       "      <td>9</td>\n",
       "      <td>0</td>\n",
       "      <td>82</td>\n",
       "      <td>1</td>\n",
       "      <td>西北</td>\n",
       "      <td>西南</td>\n",
       "      <td>微風</td>\n",
       "      <td>微風</td>\n",
       "    </tr>\n",
       "    <tr>\n",
       "      <th>4</th>\n",
       "      <td>4</td>\n",
       "      <td>lt2017010104</td>\n",
       "      <td>龍潭</td>\n",
       "      <td>2017</td>\n",
       "      <td>1</td>\n",
       "      <td>1</td>\n",
       "      <td>4</td>\n",
       "      <td>17</td>\n",
       "      <td>0.31</td>\n",
       "      <td>1</td>\n",
       "      <td>...</td>\n",
       "      <td>25</td>\n",
       "      <td>29</td>\n",
       "      <td>17</td>\n",
       "      <td>0</td>\n",
       "      <td>84</td>\n",
       "      <td>1</td>\n",
       "      <td>東北</td>\n",
       "      <td>東北</td>\n",
       "      <td>微風</td>\n",
       "      <td>無風</td>\n",
       "    </tr>\n",
       "    <tr>\n",
       "      <th>...</th>\n",
       "      <td>...</td>\n",
       "      <td>...</td>\n",
       "      <td>...</td>\n",
       "      <td>...</td>\n",
       "      <td>...</td>\n",
       "      <td>...</td>\n",
       "      <td>...</td>\n",
       "      <td>...</td>\n",
       "      <td>...</td>\n",
       "      <td>...</td>\n",
       "      <td>...</td>\n",
       "      <td>...</td>\n",
       "      <td>...</td>\n",
       "      <td>...</td>\n",
       "      <td>...</td>\n",
       "      <td>...</td>\n",
       "      <td>...</td>\n",
       "      <td>...</td>\n",
       "      <td>...</td>\n",
       "      <td>...</td>\n",
       "      <td>...</td>\n",
       "    </tr>\n",
       "    <tr>\n",
       "      <th>17512</th>\n",
       "      <td>17512</td>\n",
       "      <td>lt2018123116</td>\n",
       "      <td>龍潭</td>\n",
       "      <td>2018</td>\n",
       "      <td>12</td>\n",
       "      <td>31</td>\n",
       "      <td>16</td>\n",
       "      <td>15</td>\n",
       "      <td>0.24</td>\n",
       "      <td>1</td>\n",
       "      <td>...</td>\n",
       "      <td>34</td>\n",
       "      <td>10</td>\n",
       "      <td>13</td>\n",
       "      <td>0</td>\n",
       "      <td>95</td>\n",
       "      <td>2</td>\n",
       "      <td>東北</td>\n",
       "      <td>東北</td>\n",
       "      <td>緩風</td>\n",
       "      <td>緩風</td>\n",
       "    </tr>\n",
       "    <tr>\n",
       "      <th>17513</th>\n",
       "      <td>17513</td>\n",
       "      <td>lt2018123117</td>\n",
       "      <td>龍潭</td>\n",
       "      <td>2018</td>\n",
       "      <td>12</td>\n",
       "      <td>31</td>\n",
       "      <td>17</td>\n",
       "      <td>15</td>\n",
       "      <td>0.24</td>\n",
       "      <td>1</td>\n",
       "      <td>...</td>\n",
       "      <td>34</td>\n",
       "      <td>11</td>\n",
       "      <td>17</td>\n",
       "      <td>0</td>\n",
       "      <td>95</td>\n",
       "      <td>2</td>\n",
       "      <td>東北</td>\n",
       "      <td>東北</td>\n",
       "      <td>緩風</td>\n",
       "      <td>緩風</td>\n",
       "    </tr>\n",
       "    <tr>\n",
       "      <th>17514</th>\n",
       "      <td>17514</td>\n",
       "      <td>lt2018123118</td>\n",
       "      <td>龍潭</td>\n",
       "      <td>2018</td>\n",
       "      <td>12</td>\n",
       "      <td>31</td>\n",
       "      <td>18</td>\n",
       "      <td>15</td>\n",
       "      <td>0.25</td>\n",
       "      <td>1</td>\n",
       "      <td>...</td>\n",
       "      <td>33</td>\n",
       "      <td>8</td>\n",
       "      <td>13</td>\n",
       "      <td>0</td>\n",
       "      <td>95</td>\n",
       "      <td>1</td>\n",
       "      <td>東北</td>\n",
       "      <td>東北</td>\n",
       "      <td>緩風</td>\n",
       "      <td>緩風</td>\n",
       "    </tr>\n",
       "    <tr>\n",
       "      <th>17515</th>\n",
       "      <td>17515</td>\n",
       "      <td>lt2018123119</td>\n",
       "      <td>龍潭</td>\n",
       "      <td>2018</td>\n",
       "      <td>12</td>\n",
       "      <td>31</td>\n",
       "      <td>19</td>\n",
       "      <td>15</td>\n",
       "      <td>0.22</td>\n",
       "      <td>1</td>\n",
       "      <td>...</td>\n",
       "      <td>34</td>\n",
       "      <td>6</td>\n",
       "      <td>4</td>\n",
       "      <td>0</td>\n",
       "      <td>95</td>\n",
       "      <td>2</td>\n",
       "      <td>東北</td>\n",
       "      <td>東北</td>\n",
       "      <td>緩風</td>\n",
       "      <td>緩風</td>\n",
       "    </tr>\n",
       "    <tr>\n",
       "      <th>17516</th>\n",
       "      <td>17516</td>\n",
       "      <td>lt2018123120</td>\n",
       "      <td>龍潭</td>\n",
       "      <td>2018</td>\n",
       "      <td>12</td>\n",
       "      <td>31</td>\n",
       "      <td>20</td>\n",
       "      <td>15</td>\n",
       "      <td>0.19</td>\n",
       "      <td>1</td>\n",
       "      <td>...</td>\n",
       "      <td>36</td>\n",
       "      <td>6</td>\n",
       "      <td>1</td>\n",
       "      <td>0</td>\n",
       "      <td>96</td>\n",
       "      <td>2</td>\n",
       "      <td>東北</td>\n",
       "      <td>東北</td>\n",
       "      <td>緩風</td>\n",
       "      <td>緩風</td>\n",
       "    </tr>\n",
       "  </tbody>\n",
       "</table>\n",
       "<p>17517 rows × 21 columns</p>\n",
       "</div>"
      ],
      "text/plain": [
       "       Unnamed: 0            ID station  Year  Month  Day  Time  AMB_TEMP  \\\n",
       "0               0  lt2017010100      龍潭  2017      1    1     0        18   \n",
       "1               1  lt2017010101      龍潭  2017      1    1     1        18   \n",
       "2               2  lt2017010102      龍潭  2017      1    1     2        18   \n",
       "3               3  lt2017010103      龍潭  2017      1    1     3        17   \n",
       "4               4  lt2017010104      龍潭  2017      1    1     4        17   \n",
       "...           ...           ...     ...   ...    ...  ...   ...       ...   \n",
       "17512       17512  lt2018123116      龍潭  2018     12   31    16        15   \n",
       "17513       17513  lt2018123117      龍潭  2018     12   31    17        15   \n",
       "17514       17514  lt2018123118      龍潭  2018     12   31    18        15   \n",
       "17515       17515  lt2018123119      龍潭  2018     12   31    19        15   \n",
       "17516       17516  lt2018123120      龍潭  2018     12   31    20        15   \n",
       "\n",
       "         CO  NO  ...  O3  PM10  PM2.5  RAINFALL  RH  SO2  WD_HR WIND_DIREC  \\\n",
       "0      0.20   0  ...  34    25     16         0  77    2     東北          東   \n",
       "1      0.22   0  ...  33    20     13         0  79    1     東北          東   \n",
       "2      0.23   0  ...  31    23     16         0  80    1      東         東北   \n",
       "3      0.28   0  ...  26    25      9         0  82    1     西北         西南   \n",
       "4      0.31   1  ...  25    29     17         0  84    1     東北         東北   \n",
       "...     ...  ..  ...  ..   ...    ...       ...  ..  ...    ...        ...   \n",
       "17512  0.24   1  ...  34    10     13         0  95    2     東北         東北   \n",
       "17513  0.24   1  ...  34    11     17         0  95    2     東北         東北   \n",
       "17514  0.25   1  ...  33     8     13         0  95    1     東北         東北   \n",
       "17515  0.22   1  ...  34     6      4         0  95    2     東北         東北   \n",
       "17516  0.19   1  ...  36     6      1         0  96    2     東北         東北   \n",
       "\n",
       "      WIND_SPEED WS_HR  \n",
       "0             緩風    緩風  \n",
       "1             微風    微風  \n",
       "2             微風    微風  \n",
       "3             微風    微風  \n",
       "4             微風    無風  \n",
       "...          ...   ...  \n",
       "17512         緩風    緩風  \n",
       "17513         緩風    緩風  \n",
       "17514         緩風    緩風  \n",
       "17515         緩風    緩風  \n",
       "17516         緩風    緩風  \n",
       "\n",
       "[17517 rows x 21 columns]"
      ]
     },
     "execution_count": 3,
     "metadata": {},
     "output_type": "execute_result"
    }
   ],
   "source": [
    "df"
   ]
  },
  {
   "cell_type": "code",
   "execution_count": 4,
   "metadata": {},
   "outputs": [],
   "source": [
    "df['WD_HR'].replace({'東':0,'東南':1,'南':2,'西南':3,'西':4,'西北':5,'北':6,'東北':7},inplace=True)\n",
    "df['WIND_DIREC'].replace({'東':0,'東南':1,'南':2,'西南':3,'西':4,'西北':5,'北':6,'東北':7},inplace=True)\n",
    "df['WIND_SPEED'].replace({'無風':0,'微風':1,'緩風':2,'勁風':3},inplace=True)\n",
    "df['WS_HR'].replace({'無風':0,'微風':1,'緩風':2,'勁風':3},inplace=True)"
   ]
  },
  {
   "cell_type": "code",
   "execution_count": 5,
   "metadata": {},
   "outputs": [],
   "source": [
    "WD_HR_OHE = pd.get_dummies(df['WD_HR'],prefix=['WD_HR_OHE'])\n",
    "WIND_DIREC_OHE = pd.get_dummies(df['WIND_DIREC'],prefix=['WIND_DIREC_OHE'])"
   ]
  },
  {
   "cell_type": "code",
   "execution_count": 6,
   "metadata": {},
   "outputs": [],
   "source": [
    "df_OHE = pd.concat([df, WD_HR_OHE,WIND_DIREC_OHE], axis=1)"
   ]
  },
  {
   "cell_type": "code",
   "execution_count": 7,
   "metadata": {},
   "outputs": [],
   "source": [
    "df_OHE.drop(df_OHE.columns[[0,1,2,3,4,5,6,19,20]], axis = 1, inplace = True) "
   ]
  },
  {
   "cell_type": "code",
   "execution_count": 8,
   "metadata": {},
   "outputs": [],
   "source": [
    "x = df_OHE.iloc[:,[0,1,2,3,4,5,6,10,11]]"
   ]
  },
  {
   "cell_type": "code",
   "execution_count": 9,
   "metadata": {},
   "outputs": [],
   "source": [
    "x=np.array(x).astype(float)\n",
    "x_nor=(x-x.min(axis=0))/(x.max(axis=0)-x.min(axis=0))"
   ]
  },
  {
   "cell_type": "code",
   "execution_count": 10,
   "metadata": {},
   "outputs": [],
   "source": [
    "# x=np.array(x).astype(float)\n",
    "# from scipy.stats import zscore\n",
    "# z_score = zscore(x)"
   ]
  },
  {
   "cell_type": "code",
   "execution_count": 11,
   "metadata": {},
   "outputs": [],
   "source": [
    "x_OHE = df_OHE.iloc[:,12:]"
   ]
  },
  {
   "cell_type": "code",
   "execution_count": 12,
   "metadata": {},
   "outputs": [],
   "source": [
    "x_final = np.concatenate((x_nor, x_OHE), axis=1)"
   ]
  },
  {
   "cell_type": "code",
   "execution_count": 13,
   "metadata": {},
   "outputs": [
    {
     "data": {
      "text/plain": [
       "array([[0.43902439, 0.01949318, 0.        , ..., 0.        , 0.        ,\n",
       "        0.        ],\n",
       "       [0.43902439, 0.0214425 , 0.        , ..., 0.        , 0.        ,\n",
       "        0.        ],\n",
       "       [0.43902439, 0.02241715, 0.        , ..., 0.        , 0.        ,\n",
       "        1.        ],\n",
       "       ...,\n",
       "       [0.36585366, 0.02436647, 0.05882353, ..., 0.        , 0.        ,\n",
       "        1.        ],\n",
       "       [0.36585366, 0.0214425 , 0.05882353, ..., 0.        , 0.        ,\n",
       "        1.        ],\n",
       "       [0.36585366, 0.01851852, 0.05882353, ..., 0.        , 0.        ,\n",
       "        1.        ]])"
      ]
     },
     "execution_count": 13,
     "metadata": {},
     "output_type": "execute_result"
    }
   ],
   "source": [
    "x_final"
   ]
  },
  {
   "cell_type": "code",
   "execution_count": 14,
   "metadata": {},
   "outputs": [
    {
     "data": {
      "text/plain": [
       "(17517, 23)"
      ]
     },
     "execution_count": 14,
     "metadata": {},
     "output_type": "execute_result"
    }
   ],
   "source": [
    "x_final.shape"
   ]
  },
  {
   "cell_type": "code",
   "execution_count": 15,
   "metadata": {},
   "outputs": [],
   "source": [
    "def creat_dataset(ds, look_back=1):\n",
    "    x_data = []\n",
    "    for i in range(len(ds[:-1])-(look_back-1)):\n",
    "        tmp = []\n",
    "        for j in range(look_back):\n",
    "            tmp+=list(ds[i+j])\n",
    "        x_data.append(tmp)        \n",
    "#         y_data.append(ds[i+look_back, 0])\n",
    "    return np.array(x_data)# , np.array(y_data)"
   ]
  },
  {
   "cell_type": "code",
   "execution_count": 16,
   "metadata": {},
   "outputs": [
    {
     "name": "stdout",
     "output_type": "stream",
     "text": [
      "過去時數: 8\n",
      "x_train shape: (17509, 184)\n"
     ]
    }
   ],
   "source": [
    "look_back = 8 \n",
    "x_train = creat_dataset(x_final, look_back)\n",
    "print('過去時數:', look_back)\n",
    "print('x_train shape:', x_train.shape)"
   ]
  },
  {
   "cell_type": "code",
   "execution_count": 17,
   "metadata": {},
   "outputs": [
    {
     "data": {
      "text/plain": [
       "(17509, 184)"
      ]
     },
     "execution_count": 17,
     "metadata": {},
     "output_type": "execute_result"
    }
   ],
   "source": [
    "x_train.shape"
   ]
  },
  {
   "cell_type": "code",
   "execution_count": 18,
   "metadata": {},
   "outputs": [],
   "source": [
    "y = df_OHE.iloc[:,6]"
   ]
  },
  {
   "cell_type": "code",
   "execution_count": 19,
   "metadata": {},
   "outputs": [
    {
     "data": {
      "text/plain": [
       "0        16\n",
       "1        13\n",
       "2        16\n",
       "3         9\n",
       "4        17\n",
       "         ..\n",
       "17512    13\n",
       "17513    17\n",
       "17514    13\n",
       "17515     4\n",
       "17516     1\n",
       "Name: PM2.5, Length: 17517, dtype: int64"
      ]
     },
     "execution_count": 19,
     "metadata": {},
     "output_type": "execute_result"
    }
   ],
   "source": [
    "y"
   ]
  },
  {
   "cell_type": "code",
   "execution_count": 20,
   "metadata": {},
   "outputs": [],
   "source": [
    "#將y(pm2.5)分成10個等級\n",
    "y1 = []                \n",
    "for i in y:\n",
    "    if i<=11:\n",
    "        y1.append(0)\n",
    "    elif 11<i<=23:\n",
    "        y1.append(1)\n",
    "    elif 23<i<=35:\n",
    "        y1.append(2)\n",
    "    elif 36<i<=41:\n",
    "        y1.append(3)\n",
    "    elif 41<i<=47:\n",
    "        y1.append(4)\n",
    "    elif 47<i<=53:\n",
    "        y1.append(5)\n",
    "    elif 53<i<=58:\n",
    "        y1.append(6)\n",
    "    elif 58<i<=64:\n",
    "        y1.append(7)\n",
    "    elif 64<i<=70:\n",
    "        y1.append(8)\n",
    "    else:\n",
    "        y1.append(9)\n",
    "y1 = np.array(y1)"
   ]
  },
  {
   "cell_type": "code",
   "execution_count": 21,
   "metadata": {},
   "outputs": [
    {
     "data": {
      "text/plain": [
       "(17517,)"
      ]
     },
     "execution_count": 21,
     "metadata": {},
     "output_type": "execute_result"
    }
   ],
   "source": [
    "y1.shape"
   ]
  },
  {
   "cell_type": "code",
   "execution_count": 22,
   "metadata": {},
   "outputs": [
    {
     "data": {
      "text/plain": [
       "array([1, 1, 1, ..., 1, 0, 0])"
      ]
     },
     "execution_count": 22,
     "metadata": {},
     "output_type": "execute_result"
    }
   ],
   "source": [
    "y1"
   ]
  },
  {
   "cell_type": "code",
   "execution_count": 23,
   "metadata": {},
   "outputs": [],
   "source": [
    "#將10類的標籤y,轉換成one-hot encoding編碼\n",
    "from keras.utils import np_utils\n",
    "y2 = np_utils.to_categorical(y1,10)"
   ]
  },
  {
   "cell_type": "code",
   "execution_count": 24,
   "metadata": {},
   "outputs": [],
   "source": [
    "#每8筆資料對上一比標籤y,所以從第9比開始\n",
    "y_train=y2[8:]"
   ]
  },
  {
   "cell_type": "code",
   "execution_count": 25,
   "metadata": {},
   "outputs": [
    {
     "data": {
      "text/plain": [
       "(17509, 10)"
      ]
     },
     "execution_count": 25,
     "metadata": {},
     "output_type": "execute_result"
    }
   ],
   "source": [
    "y_train.shape"
   ]
  },
  {
   "cell_type": "code",
   "execution_count": 26,
   "metadata": {},
   "outputs": [
    {
     "data": {
      "text/plain": [
       "14006.400000000001"
      ]
     },
     "execution_count": 26,
     "metadata": {},
     "output_type": "execute_result"
    }
   ],
   "source": [
    "17508*0.8"
   ]
  },
  {
   "cell_type": "code",
   "execution_count": 27,
   "metadata": {},
   "outputs": [],
   "source": [
    "#分成訓練集和測試集\n",
    "x_tr, y_tr = x_train[0:14006], y_train[0:14006]\n",
    "x_test, y_test = x_train[14006:], y_train[14006:]"
   ]
  },
  {
   "cell_type": "code",
   "execution_count": 36,
   "metadata": {},
   "outputs": [],
   "source": [
    "#定義模型\n",
    "model = Sequential() #建立Sequential()物件\n",
    "model.add(Dense(184, input_shape=(184,),activation='relu')) #add函式新增神經層,Dense為全連接層,16為神經元數,input_shape為輸入資料,activation為啟動函數,參考https://keras.io/activations/\n",
    "# tf.keras.layers.Dropout(0.2)\n",
    "model.add(Dense(200, activation='relu'))\n",
    "# tf.keras.layers.Dropout(0.2)\n",
    "model.add(Dense(100, activation='relu'))\n",
    "# tf.keras.layers.Dropout(0.2)\n",
    "# model.add(Dense(60, activation='relu'))\n",
    "model.add(Dense(30, activation='relu'))\n",
    "model.add(Dense(10, activation='softmax')) \n"
   ]
  },
  {
   "cell_type": "code",
   "execution_count": 37,
   "metadata": {},
   "outputs": [
    {
     "name": "stdout",
     "output_type": "stream",
     "text": [
      "Model: \"sequential_2\"\n",
      "_________________________________________________________________\n",
      "Layer (type)                 Output Shape              Param #   \n",
      "=================================================================\n",
      "dense_6 (Dense)              (None, 184)               34040     \n",
      "_________________________________________________________________\n",
      "dense_7 (Dense)              (None, 200)               37000     \n",
      "_________________________________________________________________\n",
      "dense_8 (Dense)              (None, 100)               20100     \n",
      "_________________________________________________________________\n",
      "dense_9 (Dense)              (None, 30)                3030      \n",
      "_________________________________________________________________\n",
      "dense_10 (Dense)             (None, 10)                310       \n",
      "=================================================================\n",
      "Total params: 94,480\n",
      "Trainable params: 94,480\n",
      "Non-trainable params: 0\n",
      "_________________________________________________________________\n"
     ]
    }
   ],
   "source": [
    "model.summary() #模型摘要資訊"
   ]
  },
  {
   "cell_type": "code",
   "execution_count": 38,
   "metadata": {},
   "outputs": [],
   "source": [
    "from keras import optimizers"
   ]
  },
  {
   "cell_type": "code",
   "execution_count": 39,
   "metadata": {},
   "outputs": [],
   "source": [
    "model.compile(loss = 'categorical_crossentropy',optimizer = optimizers.Adam(learning_rate = 0.0005),metrics = ['accuracy'])\n",
    "#compile()函式可以編譯模型,loss為損失函數,optimizer為優化器,"
   ]
  },
  {
   "cell_type": "code",
   "execution_count": 32,
   "metadata": {},
   "outputs": [
    {
     "name": "stdout",
     "output_type": "stream",
     "text": [
      "Train on 11204 samples, validate on 2802 samples\n",
      "Epoch 1/5\n",
      "11204/11204 [==============================] - 1s 49us/step - loss: 1.4972 - accuracy: 0.4287 - val_loss: 1.2155 - val_accuracy: 0.4897\n",
      "Epoch 2/5\n",
      "11204/11204 [==============================] - 0s 36us/step - loss: 1.1433 - accuracy: 0.5332 - val_loss: 1.1670 - val_accuracy: 0.5403\n",
      "Epoch 3/5\n",
      "11204/11204 [==============================] - 0s 30us/step - loss: 1.0372 - accuracy: 0.5725 - val_loss: 1.1144 - val_accuracy: 0.5425\n",
      "Epoch 4/5\n",
      "11204/11204 [==============================] - 0s 30us/step - loss: 0.9813 - accuracy: 0.5965 - val_loss: 1.1212 - val_accuracy: 0.5393\n",
      "Epoch 5/5\n",
      "11204/11204 [==============================] - 0s 35us/step - loss: 0.9400 - accuracy: 0.6112 - val_loss: 1.0614 - val_accuracy: 0.5589\n"
     ]
    }
   ],
   "source": [
    "#訓練模型fit()函式,x2_train為訓練特徵資料,y2_train為訓練標籤資料,epochs為訓練週期次數,shuffle為隨機,batch_size為批次樣本數(一次多少筆資料)\n",
    "history = model.fit(x_tr, y_tr,\n",
    "                    validation_split=0.2,\n",
    "                    batch_size = 100,\n",
    "                    shuffle = True,\n",
    "                    epochs=5,)  "
   ]
  },
  {
   "cell_type": "code",
   "execution_count": 35,
   "metadata": {},
   "outputs": [
    {
     "data": {
      "image/png": "[encoded data removed]",
      "text/plain": [
       "<Figure size 432x288 with 1 Axes>"
      ]
     },
     "metadata": {
      "needs_background": "light"
     },
     "output_type": "display_data"
    }
   ],
   "source": [
    "import matplotlib.pyplot as plt\n",
    "loss = history.history['loss']\n",
    "epochs = range(1, len(loss)+1)\n",
    "val_loss = history.history['val_loss']\n",
    "plt.plot(epochs, loss, 'b-',label='Train')\n",
    "plt.plot(epochs, val_loss,'g-',label='Test')\n",
    "plt.title('LT_train')\n",
    "plt.xlabel('Epohs')\n",
    "plt.ylabel('Loss')\n",
    "plt.legend()\n",
    "plt.show()"
   ]
  },
  {
   "cell_type": "code",
   "execution_count": 34,
   "metadata": {},
   "outputs": [
    {
     "data": {
      "image/png": "[encoded data removed]",
      "text/plain": [
       "<Figure size 432x288 with 1 Axes>"
      ]
     },
     "metadata": {
      "needs_background": "light"
     },
     "output_type": "display_data"
    }
   ],
   "source": [
    "acc = history.history['accuracy']\n",
    "epochs = range(1, len(acc)+1)\n",
    "val_acc = history.history['val_accuracy']\n",
    "plt.plot(epochs, acc, 'b-',label='Train')\n",
    "plt.plot(epochs, val_acc,'g-',label='Test')\n",
    "plt.title('LT_train')\n",
    "plt.xlabel('Epohs')\n",
    "plt.ylabel('acc')\n",
    "plt.legend()\n",
    "plt.show()"
   ]
  },
  {
   "cell_type": "code",
   "execution_count": null,
   "metadata": {},
   "outputs": [],
   "source": [
    "loss, accuracy = model.evaluate(x_tr,y_tr)\n",
    "print('訓練資料集準確度:',accuracy,'Loss:',loss)"
   ]
  },
  {
   "cell_type": "markdown",
   "metadata": {},
   "source": [
    "## loss 損失函數,越小越好\n",
    "## accuracy 準確率"
   ]
  },
  {
   "cell_type": "code",
   "execution_count": 64,
   "metadata": {},
   "outputs": [
    {
     "ename": "NameError",
     "evalue": "name 'x2_train' is not defined",
     "output_type": "error",
     "traceback": [
      "\u001b[0;31m---------------------------------------------------------------------------\u001b[0m",
      "\u001b[0;31mNameError\u001b[0m                                 Traceback (most recent call last)",
      "\u001b[0;32m<ipython-input-64-5d4b1a74fae4>\u001b[0m in \u001b[0;36m<module>\u001b[0;34m\u001b[0m\n\u001b[0;32m----> 1\u001b[0;31m \u001b[0mloss_a\u001b[0m\u001b[0;34m,\u001b[0m \u001b[0maccuracy_a\u001b[0m \u001b[0;34m=\u001b[0m \u001b[0mmodel\u001b[0m\u001b[0;34m.\u001b[0m\u001b[0mevaluate\u001b[0m\u001b[0;34m(\u001b[0m\u001b[0mx2_train\u001b[0m\u001b[0;34m,\u001b[0m \u001b[0my2_train\u001b[0m\u001b[0;34m)\u001b[0m\u001b[0;34m\u001b[0m\u001b[0;34m\u001b[0m\u001b[0m\n\u001b[0m\u001b[1;32m      2\u001b[0m \u001b[0mloss_t\u001b[0m\u001b[0;34m,\u001b[0m \u001b[0maccuracy_t\u001b[0m \u001b[0;34m=\u001b[0m \u001b[0mmodel\u001b[0m\u001b[0;34m.\u001b[0m\u001b[0mevaluate\u001b[0m\u001b[0;34m(\u001b[0m\u001b[0mx2_test\u001b[0m\u001b[0;34m,\u001b[0m \u001b[0my2_test\u001b[0m\u001b[0;34m)\u001b[0m\u001b[0;34m\u001b[0m\u001b[0;34m\u001b[0m\u001b[0m\n",
      "\u001b[0;31mNameError\u001b[0m: name 'x2_train' is not defined"
     ]
    }
   ],
   "source": [
    "loss_a, accuracy_a = model.evaluate(x2_train, y2_train)\n",
    "loss_t, accuracy_t = model.evaluate(x2_test, y2_test)"
   ]
  },
  {
   "cell_type": "code",
   "execution_count": 40,
   "metadata": {},
   "outputs": [
    {
     "name": "stdout",
     "output_type": "stream",
     "text": [
      "Train on 14006 samples, validate on 3503 samples\n",
      "Epoch 1/10\n",
      "14006/14006 [==============================] - 1s 42us/step - loss: 1.4182 - accuracy: 0.4593 - val_loss: 1.0961 - val_accuracy: 0.5615\n",
      "Epoch 2/10\n",
      "14006/14006 [==============================] - 0s 31us/step - loss: 1.0875 - accuracy: 0.5574 - val_loss: 1.0303 - val_accuracy: 0.5764\n",
      "Epoch 3/10\n",
      "14006/14006 [==============================] - 0s 29us/step - loss: 1.0183 - accuracy: 0.5806 - val_loss: 0.9889 - val_accuracy: 0.5978\n",
      "Epoch 4/10\n",
      "14006/14006 [==============================] - 0s 30us/step - loss: 0.9654 - accuracy: 0.5997 - val_loss: 1.0327 - val_accuracy: 0.5715\n",
      "Epoch 5/10\n",
      "14006/14006 [==============================] - 0s 31us/step - loss: 0.9209 - accuracy: 0.6195 - val_loss: 0.9361 - val_accuracy: 0.6275\n",
      "Epoch 6/10\n",
      "14006/14006 [==============================] - 0s 31us/step - loss: 0.8763 - accuracy: 0.6368 - val_loss: 0.9108 - val_accuracy: 0.6329\n",
      "Epoch 7/10\n",
      "14006/14006 [==============================] - 0s 30us/step - loss: 0.8390 - accuracy: 0.6508 - val_loss: 0.9344 - val_accuracy: 0.6392\n",
      "Epoch 8/10\n",
      "14006/14006 [==============================] - 0s 31us/step - loss: 0.8124 - accuracy: 0.6624 - val_loss: 0.8468 - val_accuracy: 0.6500\n",
      "Epoch 9/10\n",
      "14006/14006 [==============================] - 0s 30us/step - loss: 0.7967 - accuracy: 0.6719 - val_loss: 0.8569 - val_accuracy: 0.6560\n",
      "Epoch 10/10\n",
      "14006/14006 [==============================] - 1s 38us/step - loss: 0.7621 - accuracy: 0.6871 - val_loss: 0.8803 - val_accuracy: 0.6586\n"
     ]
    }
   ],
   "source": [
    "history = model.fit(x_tr, y_tr,\n",
    "                    validation_data = (x_test, y_test),\n",
    "                    batch_size = 100,\n",
    "                    shuffle = True,\n",
    "                    epochs=10,)"
   ]
  },
  {
   "cell_type": "code",
   "execution_count": 41,
   "metadata": {},
   "outputs": [
    {
     "data": {
      "image/png": "[encoded data removed]",
      "text/plain": [
       "<Figure size 432x288 with 1 Axes>"
      ]
     },
     "metadata": {
      "needs_background": "light"
     },
     "output_type": "display_data"
    }
   ],
   "source": [
    "loss = history.history['loss']\n",
    "epochs = range(1, len(loss)+1)\n",
    "val_loss = history.history['val_loss']\n",
    "plt.plot(epochs, loss, 'b-',label='Train')\n",
    "plt.plot(epochs, val_loss,'g-',label='Test')\n",
    "plt.title('LT_test')\n",
    "plt.xlabel('Epohs')\n",
    "plt.ylabel('Loss')\n",
    "plt.legend()\n",
    "plt.show()"
   ]
  },
  {
   "cell_type": "code",
   "execution_count": 42,
   "metadata": {},
   "outputs": [
    {
     "data": {
      "image/png": "[encoded data removed]",
      "text/plain": [
       "<Figure size 432x288 with 1 Axes>"
      ]
     },
     "metadata": {
      "needs_background": "light"
     },
     "output_type": "display_data"
    }
   ],
   "source": [
    "acc = history.history['accuracy']\n",
    "epochs = range(1, len(acc)+1)\n",
    "val_acc = history.history['val_accuracy']\n",
    "plt.plot(epochs, acc, 'b-',label='Train')\n",
    "plt.plot(epochs, val_acc,'g-',label='Test')\n",
    "plt.title('LT_test')\n",
    "plt.xlabel('Epohs')\n",
    "plt.ylabel('Accuracy')\n",
    "plt.legend()\n",
    "plt.show()"
   ]
  },
  {
   "cell_type": "code",
   "execution_count": null,
   "metadata": {},
   "outputs": [],
   "source": [
    "loss, accuracy = model.evaluate(x_tr,y_tr)\n",
    "print('訓練資料集準確度:',accuracy,'Loss:',loss)\n"
   ]
  },
  {
   "cell_type": "code",
   "execution_count": 43,
   "metadata": {},
   "outputs": [
    {
     "name": "stdout",
     "output_type": "stream",
     "text": [
      "3503/3503 [==============================] - 0s 29us/step\n",
      "測試資料集準確度: 0.6585783362388611 Loss: 0.8803309839417721\n"
     ]
    }
   ],
   "source": [
    "loss_test, accuracy_test = model.evaluate(x_test,y_test)\n",
    "print('測試資料集準確度:',accuracy_test,'Loss:',loss_test)"
   ]
  },
  {
   "cell_type": "code",
   "execution_count": null,
   "metadata": {},
   "outputs": [],
   "source": []
  }
 ],
 "metadata": {
  "kernelspec": {
   "display_name": "Python 3",
   "language": "python",
   "name": "python3"
  },
  "language_info": {
   "codemirror_mode": {
    "name": "ipython",
    "version": 3
   },
   "file_extension": ".py",
   "mimetype": "text/x-python",
   "name": "python",
   "nbconvert_exporter": "python",
   "pygments_lexer": "ipython3",
   "version": "3.6.8"
  }
 },
 "nbformat": 4,
 "nbformat_minor": 2
}
