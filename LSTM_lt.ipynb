{
 "cells": [
  {
   "cell_type": "code",
   "execution_count": 2,
   "metadata": {},
   "outputs": [
    {
     "name": "stderr",
     "output_type": "stream",
     "text": [
      "Using TensorFlow backend.\n"
     ]
    }
   ],
   "source": [
    "import numpy as np\n",
    "import pandas as pd\n",
    "from keras.models import Sequential\n",
    "from keras.layers import Dense, SimpleRNN\n",
    "from keras.layers import LSTM, Dropout, GRU\n",
    "import tensorflow as tf\n",
    "from scipy.stats import zscore \n",
    "from sklearn.preprocessing import MinMaxScaler\n",
    "import matplotlib.pyplot as plt"
   ]
  },
  {
   "cell_type": "code",
   "execution_count": 22,
   "metadata": {},
   "outputs": [],
   "source": [
    "df = pd.read_csv('/Users/tybillchou/Documents/projectpm25/pm25/new/lt_106107_pm25_comp.csv',encoding='utf-8')"
   ]
  },
  {
   "cell_type": "code",
   "execution_count": 23,
   "metadata": {
    "scrolled": true
   },
   "outputs": [
    {
     "data": {
      "text/html": [
       "<div>\n",
       "<style scoped>\n",
       "    .dataframe tbody tr th:only-of-type {\n",
       "        vertical-align: middle;\n",
       "    }\n",
       "\n",
       "    .dataframe tbody tr th {\n",
       "        vertical-align: top;\n",
       "    }\n",
       "\n",
       "    .dataframe thead th {\n",
       "        text-align: right;\n",
       "    }\n",
       "</style>\n",
       "<table border=\"1\" class=\"dataframe\">\n",
       "  <thead>\n",
       "    <tr style=\"text-align: right;\">\n",
       "      <th></th>\n",
       "      <th>Unnamed: 0</th>\n",
       "      <th>ID</th>\n",
       "      <th>station</th>\n",
       "      <th>Year</th>\n",
       "      <th>Month</th>\n",
       "      <th>Day</th>\n",
       "      <th>Time</th>\n",
       "      <th>AMB_TEMP</th>\n",
       "      <th>CO</th>\n",
       "      <th>NO</th>\n",
       "      <th>...</th>\n",
       "      <th>O3</th>\n",
       "      <th>PM10</th>\n",
       "      <th>PM2.5</th>\n",
       "      <th>RAINFALL</th>\n",
       "      <th>RH</th>\n",
       "      <th>SO2</th>\n",
       "      <th>WD_HR</th>\n",
       "      <th>WIND_DIREC</th>\n",
       "      <th>WIND_SPEED</th>\n",
       "      <th>WS_HR</th>\n",
       "    </tr>\n",
       "  </thead>\n",
       "  <tbody>\n",
       "    <tr>\n",
       "      <th>0</th>\n",
       "      <td>0</td>\n",
       "      <td>lt2017010100</td>\n",
       "      <td>龍潭</td>\n",
       "      <td>2017</td>\n",
       "      <td>1</td>\n",
       "      <td>1</td>\n",
       "      <td>0</td>\n",
       "      <td>18</td>\n",
       "      <td>0.20</td>\n",
       "      <td>0</td>\n",
       "      <td>...</td>\n",
       "      <td>34</td>\n",
       "      <td>25</td>\n",
       "      <td>16</td>\n",
       "      <td>0</td>\n",
       "      <td>77</td>\n",
       "      <td>2</td>\n",
       "      <td>東北</td>\n",
       "      <td>東</td>\n",
       "      <td>緩風</td>\n",
       "      <td>緩風</td>\n",
       "    </tr>\n",
       "    <tr>\n",
       "      <th>1</th>\n",
       "      <td>1</td>\n",
       "      <td>lt2017010101</td>\n",
       "      <td>龍潭</td>\n",
       "      <td>2017</td>\n",
       "      <td>1</td>\n",
       "      <td>1</td>\n",
       "      <td>1</td>\n",
       "      <td>18</td>\n",
       "      <td>0.22</td>\n",
       "      <td>0</td>\n",
       "      <td>...</td>\n",
       "      <td>33</td>\n",
       "      <td>20</td>\n",
       "      <td>13</td>\n",
       "      <td>0</td>\n",
       "      <td>79</td>\n",
       "      <td>1</td>\n",
       "      <td>東北</td>\n",
       "      <td>東</td>\n",
       "      <td>微風</td>\n",
       "      <td>微風</td>\n",
       "    </tr>\n",
       "    <tr>\n",
       "      <th>2</th>\n",
       "      <td>2</td>\n",
       "      <td>lt2017010102</td>\n",
       "      <td>龍潭</td>\n",
       "      <td>2017</td>\n",
       "      <td>1</td>\n",
       "      <td>1</td>\n",
       "      <td>2</td>\n",
       "      <td>18</td>\n",
       "      <td>0.23</td>\n",
       "      <td>0</td>\n",
       "      <td>...</td>\n",
       "      <td>31</td>\n",
       "      <td>23</td>\n",
       "      <td>16</td>\n",
       "      <td>0</td>\n",
       "      <td>80</td>\n",
       "      <td>1</td>\n",
       "      <td>東</td>\n",
       "      <td>東北</td>\n",
       "      <td>微風</td>\n",
       "      <td>微風</td>\n",
       "    </tr>\n",
       "    <tr>\n",
       "      <th>3</th>\n",
       "      <td>3</td>\n",
       "      <td>lt2017010103</td>\n",
       "      <td>龍潭</td>\n",
       "      <td>2017</td>\n",
       "      <td>1</td>\n",
       "      <td>1</td>\n",
       "      <td>3</td>\n",
       "      <td>17</td>\n",
       "      <td>0.28</td>\n",
       "      <td>0</td>\n",
       "      <td>...</td>\n",
       "      <td>26</td>\n",
       "      <td>25</td>\n",
       "      <td>9</td>\n",
       "      <td>0</td>\n",
       "      <td>82</td>\n",
       "      <td>1</td>\n",
       "      <td>西北</td>\n",
       "      <td>西南</td>\n",
       "      <td>微風</td>\n",
       "      <td>微風</td>\n",
       "    </tr>\n",
       "    <tr>\n",
       "      <th>4</th>\n",
       "      <td>4</td>\n",
       "      <td>lt2017010104</td>\n",
       "      <td>龍潭</td>\n",
       "      <td>2017</td>\n",
       "      <td>1</td>\n",
       "      <td>1</td>\n",
       "      <td>4</td>\n",
       "      <td>17</td>\n",
       "      <td>0.31</td>\n",
       "      <td>1</td>\n",
       "      <td>...</td>\n",
       "      <td>25</td>\n",
       "      <td>29</td>\n",
       "      <td>17</td>\n",
       "      <td>0</td>\n",
       "      <td>84</td>\n",
       "      <td>1</td>\n",
       "      <td>東北</td>\n",
       "      <td>東北</td>\n",
       "      <td>微風</td>\n",
       "      <td>無風</td>\n",
       "    </tr>\n",
       "    <tr>\n",
       "      <th>...</th>\n",
       "      <td>...</td>\n",
       "      <td>...</td>\n",
       "      <td>...</td>\n",
       "      <td>...</td>\n",
       "      <td>...</td>\n",
       "      <td>...</td>\n",
       "      <td>...</td>\n",
       "      <td>...</td>\n",
       "      <td>...</td>\n",
       "      <td>...</td>\n",
       "      <td>...</td>\n",
       "      <td>...</td>\n",
       "      <td>...</td>\n",
       "      <td>...</td>\n",
       "      <td>...</td>\n",
       "      <td>...</td>\n",
       "      <td>...</td>\n",
       "      <td>...</td>\n",
       "      <td>...</td>\n",
       "      <td>...</td>\n",
       "      <td>...</td>\n",
       "    </tr>\n",
       "    <tr>\n",
       "      <th>17512</th>\n",
       "      <td>17512</td>\n",
       "      <td>lt2018123116</td>\n",
       "      <td>龍潭</td>\n",
       "      <td>2018</td>\n",
       "      <td>12</td>\n",
       "      <td>31</td>\n",
       "      <td>16</td>\n",
       "      <td>15</td>\n",
       "      <td>0.24</td>\n",
       "      <td>1</td>\n",
       "      <td>...</td>\n",
       "      <td>34</td>\n",
       "      <td>10</td>\n",
       "      <td>13</td>\n",
       "      <td>0</td>\n",
       "      <td>95</td>\n",
       "      <td>2</td>\n",
       "      <td>東北</td>\n",
       "      <td>東北</td>\n",
       "      <td>緩風</td>\n",
       "      <td>緩風</td>\n",
       "    </tr>\n",
       "    <tr>\n",
       "      <th>17513</th>\n",
       "      <td>17513</td>\n",
       "      <td>lt2018123117</td>\n",
       "      <td>龍潭</td>\n",
       "      <td>2018</td>\n",
       "      <td>12</td>\n",
       "      <td>31</td>\n",
       "      <td>17</td>\n",
       "      <td>15</td>\n",
       "      <td>0.24</td>\n",
       "      <td>1</td>\n",
       "      <td>...</td>\n",
       "      <td>34</td>\n",
       "      <td>11</td>\n",
       "      <td>17</td>\n",
       "      <td>0</td>\n",
       "      <td>95</td>\n",
       "      <td>2</td>\n",
       "      <td>東北</td>\n",
       "      <td>東北</td>\n",
       "      <td>緩風</td>\n",
       "      <td>緩風</td>\n",
       "    </tr>\n",
       "    <tr>\n",
       "      <th>17514</th>\n",
       "      <td>17514</td>\n",
       "      <td>lt2018123118</td>\n",
       "      <td>龍潭</td>\n",
       "      <td>2018</td>\n",
       "      <td>12</td>\n",
       "      <td>31</td>\n",
       "      <td>18</td>\n",
       "      <td>15</td>\n",
       "      <td>0.25</td>\n",
       "      <td>1</td>\n",
       "      <td>...</td>\n",
       "      <td>33</td>\n",
       "      <td>8</td>\n",
       "      <td>13</td>\n",
       "      <td>0</td>\n",
       "      <td>95</td>\n",
       "      <td>1</td>\n",
       "      <td>東北</td>\n",
       "      <td>東北</td>\n",
       "      <td>緩風</td>\n",
       "      <td>緩風</td>\n",
       "    </tr>\n",
       "    <tr>\n",
       "      <th>17515</th>\n",
       "      <td>17515</td>\n",
       "      <td>lt2018123119</td>\n",
       "      <td>龍潭</td>\n",
       "      <td>2018</td>\n",
       "      <td>12</td>\n",
       "      <td>31</td>\n",
       "      <td>19</td>\n",
       "      <td>15</td>\n",
       "      <td>0.22</td>\n",
       "      <td>1</td>\n",
       "      <td>...</td>\n",
       "      <td>34</td>\n",
       "      <td>6</td>\n",
       "      <td>4</td>\n",
       "      <td>0</td>\n",
       "      <td>95</td>\n",
       "      <td>2</td>\n",
       "      <td>東北</td>\n",
       "      <td>東北</td>\n",
       "      <td>緩風</td>\n",
       "      <td>緩風</td>\n",
       "    </tr>\n",
       "    <tr>\n",
       "      <th>17516</th>\n",
       "      <td>17516</td>\n",
       "      <td>lt2018123120</td>\n",
       "      <td>龍潭</td>\n",
       "      <td>2018</td>\n",
       "      <td>12</td>\n",
       "      <td>31</td>\n",
       "      <td>20</td>\n",
       "      <td>15</td>\n",
       "      <td>0.19</td>\n",
       "      <td>1</td>\n",
       "      <td>...</td>\n",
       "      <td>36</td>\n",
       "      <td>6</td>\n",
       "      <td>1</td>\n",
       "      <td>0</td>\n",
       "      <td>96</td>\n",
       "      <td>2</td>\n",
       "      <td>東北</td>\n",
       "      <td>東北</td>\n",
       "      <td>緩風</td>\n",
       "      <td>緩風</td>\n",
       "    </tr>\n",
       "  </tbody>\n",
       "</table>\n",
       "<p>17517 rows × 21 columns</p>\n",
       "</div>"
      ],
      "text/plain": [
       "       Unnamed: 0            ID station  Year  Month  Day  Time  AMB_TEMP  \\\n",
       "0               0  lt2017010100      龍潭  2017      1    1     0        18   \n",
       "1               1  lt2017010101      龍潭  2017      1    1     1        18   \n",
       "2               2  lt2017010102      龍潭  2017      1    1     2        18   \n",
       "3               3  lt2017010103      龍潭  2017      1    1     3        17   \n",
       "4               4  lt2017010104      龍潭  2017      1    1     4        17   \n",
       "...           ...           ...     ...   ...    ...  ...   ...       ...   \n",
       "17512       17512  lt2018123116      龍潭  2018     12   31    16        15   \n",
       "17513       17513  lt2018123117      龍潭  2018     12   31    17        15   \n",
       "17514       17514  lt2018123118      龍潭  2018     12   31    18        15   \n",
       "17515       17515  lt2018123119      龍潭  2018     12   31    19        15   \n",
       "17516       17516  lt2018123120      龍潭  2018     12   31    20        15   \n",
       "\n",
       "         CO  NO  ...  O3  PM10  PM2.5  RAINFALL  RH  SO2  WD_HR WIND_DIREC  \\\n",
       "0      0.20   0  ...  34    25     16         0  77    2     東北          東   \n",
       "1      0.22   0  ...  33    20     13         0  79    1     東北          東   \n",
       "2      0.23   0  ...  31    23     16         0  80    1      東         東北   \n",
       "3      0.28   0  ...  26    25      9         0  82    1     西北         西南   \n",
       "4      0.31   1  ...  25    29     17         0  84    1     東北         東北   \n",
       "...     ...  ..  ...  ..   ...    ...       ...  ..  ...    ...        ...   \n",
       "17512  0.24   1  ...  34    10     13         0  95    2     東北         東北   \n",
       "17513  0.24   1  ...  34    11     17         0  95    2     東北         東北   \n",
       "17514  0.25   1  ...  33     8     13         0  95    1     東北         東北   \n",
       "17515  0.22   1  ...  34     6      4         0  95    2     東北         東北   \n",
       "17516  0.19   1  ...  36     6      1         0  96    2     東北         東北   \n",
       "\n",
       "      WIND_SPEED WS_HR  \n",
       "0             緩風    緩風  \n",
       "1             微風    微風  \n",
       "2             微風    微風  \n",
       "3             微風    微風  \n",
       "4             微風    無風  \n",
       "...          ...   ...  \n",
       "17512         緩風    緩風  \n",
       "17513         緩風    緩風  \n",
       "17514         緩風    緩風  \n",
       "17515         緩風    緩風  \n",
       "17516         緩風    緩風  \n",
       "\n",
       "[17517 rows x 21 columns]"
      ]
     },
     "execution_count": 23,
     "metadata": {},
     "output_type": "execute_result"
    }
   ],
   "source": [
    "df"
   ]
  },
  {
   "cell_type": "code",
   "execution_count": 30,
   "metadata": {},
   "outputs": [
    {
     "data": {
      "text/html": [
       "<div>\n",
       "<style scoped>\n",
       "    .dataframe tbody tr th:only-of-type {\n",
       "        vertical-align: middle;\n",
       "    }\n",
       "\n",
       "    .dataframe tbody tr th {\n",
       "        vertical-align: top;\n",
       "    }\n",
       "\n",
       "    .dataframe thead th {\n",
       "        text-align: right;\n",
       "    }\n",
       "</style>\n",
       "<table border=\"1\" class=\"dataframe\">\n",
       "  <thead>\n",
       "    <tr style=\"text-align: right;\">\n",
       "      <th></th>\n",
       "      <th>WD_HR</th>\n",
       "      <th>WIND_DIREC</th>\n",
       "      <th>WIND_SPEED</th>\n",
       "      <th>WS_HR</th>\n",
       "    </tr>\n",
       "  </thead>\n",
       "  <tbody>\n",
       "    <tr>\n",
       "      <th>0</th>\n",
       "      <td>7</td>\n",
       "      <td>0</td>\n",
       "      <td>2</td>\n",
       "      <td>2</td>\n",
       "    </tr>\n",
       "    <tr>\n",
       "      <th>1</th>\n",
       "      <td>7</td>\n",
       "      <td>0</td>\n",
       "      <td>1</td>\n",
       "      <td>1</td>\n",
       "    </tr>\n",
       "    <tr>\n",
       "      <th>2</th>\n",
       "      <td>0</td>\n",
       "      <td>7</td>\n",
       "      <td>1</td>\n",
       "      <td>1</td>\n",
       "    </tr>\n",
       "    <tr>\n",
       "      <th>3</th>\n",
       "      <td>5</td>\n",
       "      <td>3</td>\n",
       "      <td>1</td>\n",
       "      <td>1</td>\n",
       "    </tr>\n",
       "    <tr>\n",
       "      <th>4</th>\n",
       "      <td>7</td>\n",
       "      <td>7</td>\n",
       "      <td>1</td>\n",
       "      <td>0</td>\n",
       "    </tr>\n",
       "    <tr>\n",
       "      <th>5</th>\n",
       "      <td>3</td>\n",
       "      <td>3</td>\n",
       "      <td>1</td>\n",
       "      <td>0</td>\n",
       "    </tr>\n",
       "    <tr>\n",
       "      <th>6</th>\n",
       "      <td>3</td>\n",
       "      <td>2</td>\n",
       "      <td>1</td>\n",
       "      <td>1</td>\n",
       "    </tr>\n",
       "    <tr>\n",
       "      <th>7</th>\n",
       "      <td>0</td>\n",
       "      <td>7</td>\n",
       "      <td>1</td>\n",
       "      <td>1</td>\n",
       "    </tr>\n",
       "    <tr>\n",
       "      <th>8</th>\n",
       "      <td>0</td>\n",
       "      <td>0</td>\n",
       "      <td>1</td>\n",
       "      <td>1</td>\n",
       "    </tr>\n",
       "    <tr>\n",
       "      <th>9</th>\n",
       "      <td>7</td>\n",
       "      <td>7</td>\n",
       "      <td>1</td>\n",
       "      <td>1</td>\n",
       "    </tr>\n",
       "    <tr>\n",
       "      <th>10</th>\n",
       "      <td>7</td>\n",
       "      <td>7</td>\n",
       "      <td>1</td>\n",
       "      <td>1</td>\n",
       "    </tr>\n",
       "  </tbody>\n",
       "</table>\n",
       "</div>"
      ],
      "text/plain": [
       "    WD_HR  WIND_DIREC  WIND_SPEED  WS_HR\n",
       "0       7           0           2      2\n",
       "1       7           0           1      1\n",
       "2       0           7           1      1\n",
       "3       5           3           1      1\n",
       "4       7           7           1      0\n",
       "5       3           3           1      0\n",
       "6       3           2           1      1\n",
       "7       0           7           1      1\n",
       "8       0           0           1      1\n",
       "9       7           7           1      1\n",
       "10      7           7           1      1"
      ]
     },
     "execution_count": 30,
     "metadata": {},
     "output_type": "execute_result"
    }
   ],
   "source": [
    "df.loc[:10,'WD_HR':'WS_HR']"
   ]
  },
  {
   "cell_type": "code",
   "execution_count": 29,
   "metadata": {},
   "outputs": [],
   "source": [
    "df['WD_HR'].replace({'東':0,'東南':1,'南':2,'西南':3,'西':4,'西北':5,'北':6,'東北':7},inplace=True)\n",
    "df['WIND_DIREC'].replace({'東':0,'東南':1,'南':2,'西南':3,'西':4,'西北':5,'北':6,'東北':7},inplace=True)\n",
    "df['WIND_SPEED'].replace({'無風':0,'微風':1,'緩風':2,'勁風':3},inplace=True)\n",
    "df['WS_HR'].replace({'無風':0,'微風':1,'緩風':2,'勁風':3},inplace=True)"
   ]
  },
  {
   "cell_type": "code",
   "execution_count": 31,
   "metadata": {},
   "outputs": [],
   "source": [
    "WD_HR_OHE = pd.get_dummies(df['WD_HR'],prefix=['WD_HR_OHE'])\n",
    "WIND_DIREC_OHE = pd.get_dummies(df['WIND_DIREC'],prefix=['WIND_DIREC_OHE'])"
   ]
  },
  {
   "cell_type": "code",
   "execution_count": 32,
   "metadata": {},
   "outputs": [],
   "source": [
    "df_OHE = pd.concat([df, WD_HR_OHE,WIND_DIREC_OHE], axis=1)"
   ]
  },
  {
   "cell_type": "code",
   "execution_count": 43,
   "metadata": {},
   "outputs": [
    {
     "data": {
      "text/html": [
       "<div>\n",
       "<style scoped>\n",
       "    .dataframe tbody tr th:only-of-type {\n",
       "        vertical-align: middle;\n",
       "    }\n",
       "\n",
       "    .dataframe tbody tr th {\n",
       "        vertical-align: top;\n",
       "    }\n",
       "\n",
       "    .dataframe thead th {\n",
       "        text-align: right;\n",
       "    }\n",
       "</style>\n",
       "<table border=\"1\" class=\"dataframe\">\n",
       "  <thead>\n",
       "    <tr style=\"text-align: right;\">\n",
       "      <th></th>\n",
       "      <th>['WD_HR_OHE']_0</th>\n",
       "      <th>['WD_HR_OHE']_1</th>\n",
       "      <th>['WD_HR_OHE']_2</th>\n",
       "      <th>['WD_HR_OHE']_3</th>\n",
       "      <th>['WD_HR_OHE']_5</th>\n",
       "      <th>['WD_HR_OHE']_6</th>\n",
       "      <th>['WD_HR_OHE']_7</th>\n",
       "      <th>['WIND_DIREC_OHE']_0</th>\n",
       "      <th>['WIND_DIREC_OHE']_1</th>\n",
       "      <th>['WIND_DIREC_OHE']_2</th>\n",
       "      <th>['WIND_DIREC_OHE']_3</th>\n",
       "      <th>['WIND_DIREC_OHE']_5</th>\n",
       "      <th>['WIND_DIREC_OHE']_6</th>\n",
       "      <th>['WIND_DIREC_OHE']_7</th>\n",
       "    </tr>\n",
       "  </thead>\n",
       "  <tbody>\n",
       "    <tr>\n",
       "      <th>0</th>\n",
       "      <td>0</td>\n",
       "      <td>0</td>\n",
       "      <td>0</td>\n",
       "      <td>0</td>\n",
       "      <td>0</td>\n",
       "      <td>0</td>\n",
       "      <td>1</td>\n",
       "      <td>1</td>\n",
       "      <td>0</td>\n",
       "      <td>0</td>\n",
       "      <td>0</td>\n",
       "      <td>0</td>\n",
       "      <td>0</td>\n",
       "      <td>0</td>\n",
       "    </tr>\n",
       "    <tr>\n",
       "      <th>1</th>\n",
       "      <td>0</td>\n",
       "      <td>0</td>\n",
       "      <td>0</td>\n",
       "      <td>0</td>\n",
       "      <td>0</td>\n",
       "      <td>0</td>\n",
       "      <td>1</td>\n",
       "      <td>1</td>\n",
       "      <td>0</td>\n",
       "      <td>0</td>\n",
       "      <td>0</td>\n",
       "      <td>0</td>\n",
       "      <td>0</td>\n",
       "      <td>0</td>\n",
       "    </tr>\n",
       "    <tr>\n",
       "      <th>2</th>\n",
       "      <td>1</td>\n",
       "      <td>0</td>\n",
       "      <td>0</td>\n",
       "      <td>0</td>\n",
       "      <td>0</td>\n",
       "      <td>0</td>\n",
       "      <td>0</td>\n",
       "      <td>0</td>\n",
       "      <td>0</td>\n",
       "      <td>0</td>\n",
       "      <td>0</td>\n",
       "      <td>0</td>\n",
       "      <td>0</td>\n",
       "      <td>1</td>\n",
       "    </tr>\n",
       "    <tr>\n",
       "      <th>3</th>\n",
       "      <td>0</td>\n",
       "      <td>0</td>\n",
       "      <td>0</td>\n",
       "      <td>0</td>\n",
       "      <td>1</td>\n",
       "      <td>0</td>\n",
       "      <td>0</td>\n",
       "      <td>0</td>\n",
       "      <td>0</td>\n",
       "      <td>0</td>\n",
       "      <td>1</td>\n",
       "      <td>0</td>\n",
       "      <td>0</td>\n",
       "      <td>0</td>\n",
       "    </tr>\n",
       "    <tr>\n",
       "      <th>4</th>\n",
       "      <td>0</td>\n",
       "      <td>0</td>\n",
       "      <td>0</td>\n",
       "      <td>0</td>\n",
       "      <td>0</td>\n",
       "      <td>0</td>\n",
       "      <td>1</td>\n",
       "      <td>0</td>\n",
       "      <td>0</td>\n",
       "      <td>0</td>\n",
       "      <td>0</td>\n",
       "      <td>0</td>\n",
       "      <td>0</td>\n",
       "      <td>1</td>\n",
       "    </tr>\n",
       "    <tr>\n",
       "      <th>5</th>\n",
       "      <td>0</td>\n",
       "      <td>0</td>\n",
       "      <td>0</td>\n",
       "      <td>1</td>\n",
       "      <td>0</td>\n",
       "      <td>0</td>\n",
       "      <td>0</td>\n",
       "      <td>0</td>\n",
       "      <td>0</td>\n",
       "      <td>0</td>\n",
       "      <td>1</td>\n",
       "      <td>0</td>\n",
       "      <td>0</td>\n",
       "      <td>0</td>\n",
       "    </tr>\n",
       "    <tr>\n",
       "      <th>6</th>\n",
       "      <td>0</td>\n",
       "      <td>0</td>\n",
       "      <td>0</td>\n",
       "      <td>1</td>\n",
       "      <td>0</td>\n",
       "      <td>0</td>\n",
       "      <td>0</td>\n",
       "      <td>0</td>\n",
       "      <td>0</td>\n",
       "      <td>1</td>\n",
       "      <td>0</td>\n",
       "      <td>0</td>\n",
       "      <td>0</td>\n",
       "      <td>0</td>\n",
       "    </tr>\n",
       "    <tr>\n",
       "      <th>7</th>\n",
       "      <td>1</td>\n",
       "      <td>0</td>\n",
       "      <td>0</td>\n",
       "      <td>0</td>\n",
       "      <td>0</td>\n",
       "      <td>0</td>\n",
       "      <td>0</td>\n",
       "      <td>0</td>\n",
       "      <td>0</td>\n",
       "      <td>0</td>\n",
       "      <td>0</td>\n",
       "      <td>0</td>\n",
       "      <td>0</td>\n",
       "      <td>1</td>\n",
       "    </tr>\n",
       "    <tr>\n",
       "      <th>8</th>\n",
       "      <td>1</td>\n",
       "      <td>0</td>\n",
       "      <td>0</td>\n",
       "      <td>0</td>\n",
       "      <td>0</td>\n",
       "      <td>0</td>\n",
       "      <td>0</td>\n",
       "      <td>1</td>\n",
       "      <td>0</td>\n",
       "      <td>0</td>\n",
       "      <td>0</td>\n",
       "      <td>0</td>\n",
       "      <td>0</td>\n",
       "      <td>0</td>\n",
       "    </tr>\n",
       "    <tr>\n",
       "      <th>9</th>\n",
       "      <td>0</td>\n",
       "      <td>0</td>\n",
       "      <td>0</td>\n",
       "      <td>0</td>\n",
       "      <td>0</td>\n",
       "      <td>0</td>\n",
       "      <td>1</td>\n",
       "      <td>0</td>\n",
       "      <td>0</td>\n",
       "      <td>0</td>\n",
       "      <td>0</td>\n",
       "      <td>0</td>\n",
       "      <td>0</td>\n",
       "      <td>1</td>\n",
       "    </tr>\n",
       "  </tbody>\n",
       "</table>\n",
       "</div>"
      ],
      "text/plain": [
       "   ['WD_HR_OHE']_0  ['WD_HR_OHE']_1  ['WD_HR_OHE']_2  ['WD_HR_OHE']_3  \\\n",
       "0                0                0                0                0   \n",
       "1                0                0                0                0   \n",
       "2                1                0                0                0   \n",
       "3                0                0                0                0   \n",
       "4                0                0                0                0   \n",
       "5                0                0                0                1   \n",
       "6                0                0                0                1   \n",
       "7                1                0                0                0   \n",
       "8                1                0                0                0   \n",
       "9                0                0                0                0   \n",
       "\n",
       "   ['WD_HR_OHE']_5  ['WD_HR_OHE']_6  ['WD_HR_OHE']_7  ['WIND_DIREC_OHE']_0  \\\n",
       "0                0                0                1                     1   \n",
       "1                0                0                1                     1   \n",
       "2                0                0                0                     0   \n",
       "3                1                0                0                     0   \n",
       "4                0                0                1                     0   \n",
       "5                0                0                0                     0   \n",
       "6                0                0                0                     0   \n",
       "7                0                0                0                     0   \n",
       "8                0                0                0                     1   \n",
       "9                0                0                1                     0   \n",
       "\n",
       "   ['WIND_DIREC_OHE']_1  ['WIND_DIREC_OHE']_2  ['WIND_DIREC_OHE']_3  \\\n",
       "0                     0                     0                     0   \n",
       "1                     0                     0                     0   \n",
       "2                     0                     0                     0   \n",
       "3                     0                     0                     1   \n",
       "4                     0                     0                     0   \n",
       "5                     0                     0                     1   \n",
       "6                     0                     1                     0   \n",
       "7                     0                     0                     0   \n",
       "8                     0                     0                     0   \n",
       "9                     0                     0                     0   \n",
       "\n",
       "   ['WIND_DIREC_OHE']_5  ['WIND_DIREC_OHE']_6  ['WIND_DIREC_OHE']_7  \n",
       "0                     0                     0                     0  \n",
       "1                     0                     0                     0  \n",
       "2                     0                     0                     1  \n",
       "3                     0                     0                     0  \n",
       "4                     0                     0                     1  \n",
       "5                     0                     0                     0  \n",
       "6                     0                     0                     0  \n",
       "7                     0                     0                     1  \n",
       "8                     0                     0                     0  \n",
       "9                     0                     0                     1  "
      ]
     },
     "execution_count": 43,
     "metadata": {},
     "output_type": "execute_result"
    }
   ],
   "source": [
    "df_OHE.iloc[:10, -14:]"
   ]
  },
  {
   "cell_type": "code",
   "execution_count": 19,
   "metadata": {},
   "outputs": [
    {
     "data": {
      "text/plain": [
       "Unnamed: 0                         1\n",
       "ID                      lt2017010101\n",
       "station                           龍潭\n",
       "Year                            2017\n",
       "Month                              1\n",
       "Day                                1\n",
       "Time                               1\n",
       "AMB_TEMP                          18\n",
       "CO                              0.22\n",
       "NO                                 0\n",
       "NOx                                6\n",
       "O3                                33\n",
       "PM10                              20\n",
       "PM2.5                             13\n",
       "RAINFALL                           0\n",
       "RH                                79\n",
       "SO2                                1\n",
       "WD_HR                              7\n",
       "WIND_DIREC                         0\n",
       "WIND_SPEED                         1\n",
       "WS_HR                              1\n",
       "['WD_HR_OHE']_0                    0\n",
       "['WD_HR_OHE']_1                    0\n",
       "['WD_HR_OHE']_2                    0\n",
       "['WD_HR_OHE']_3                    0\n",
       "['WD_HR_OHE']_5                    0\n",
       "['WD_HR_OHE']_6                    0\n",
       "['WD_HR_OHE']_7                    1\n",
       "['WIND_DIREC_OHE']_0               1\n",
       "['WIND_DIREC_OHE']_1               0\n",
       "['WIND_DIREC_OHE']_2               0\n",
       "['WIND_DIREC_OHE']_3               0\n",
       "['WIND_DIREC_OHE']_5               0\n",
       "['WIND_DIREC_OHE']_6               0\n",
       "['WIND_DIREC_OHE']_7               0\n",
       "Name: 1, dtype: object"
      ]
     },
     "execution_count": 19,
     "metadata": {},
     "output_type": "execute_result"
    }
   ],
   "source": [
    "df_OHE.iloc[1]"
   ]
  },
  {
   "cell_type": "code",
   "execution_count": 20,
   "metadata": {},
   "outputs": [],
   "source": [
    "df_OHE.drop(df_OHE.columns[[0,1,2,3,4,5,6,19,20]], axis = 1, inplace = True) "
   ]
  },
  {
   "cell_type": "code",
   "execution_count": 21,
   "metadata": {},
   "outputs": [
    {
     "data": {
      "text/plain": [
       "AMB_TEMP                18.00\n",
       "CO                       0.22\n",
       "NO                       0.00\n",
       "NOx                      6.00\n",
       "O3                      33.00\n",
       "PM10                    20.00\n",
       "PM2.5                   13.00\n",
       "RAINFALL                 0.00\n",
       "RH                      79.00\n",
       "SO2                      1.00\n",
       "WD_HR                    7.00\n",
       "WIND_DIREC               0.00\n",
       "['WD_HR_OHE']_0          0.00\n",
       "['WD_HR_OHE']_1          0.00\n",
       "['WD_HR_OHE']_2          0.00\n",
       "['WD_HR_OHE']_3          0.00\n",
       "['WD_HR_OHE']_5          0.00\n",
       "['WD_HR_OHE']_6          0.00\n",
       "['WD_HR_OHE']_7          1.00\n",
       "['WIND_DIREC_OHE']_0     1.00\n",
       "['WIND_DIREC_OHE']_1     0.00\n",
       "['WIND_DIREC_OHE']_2     0.00\n",
       "['WIND_DIREC_OHE']_3     0.00\n",
       "['WIND_DIREC_OHE']_5     0.00\n",
       "['WIND_DIREC_OHE']_6     0.00\n",
       "['WIND_DIREC_OHE']_7     0.00\n",
       "Name: 1, dtype: float64"
      ]
     },
     "execution_count": 21,
     "metadata": {},
     "output_type": "execute_result"
    }
   ],
   "source": [
    "df_OHE.iloc[1]"
   ]
  },
  {
   "cell_type": "code",
   "execution_count": 22,
   "metadata": {},
   "outputs": [],
   "source": [
    "x = df_OHE.iloc[:,[0,1,2,3,4,5,6,10,11]]"
   ]
  },
  {
   "cell_type": "code",
   "execution_count": 23,
   "metadata": {},
   "outputs": [],
   "source": [
    "x=np.array(x).astype(float)\n",
    "x_nor=(x-x.min(axis=0))/(x.max(axis=0)-x.min(axis=0))"
   ]
  },
  {
   "cell_type": "code",
   "execution_count": null,
   "metadata": {},
   "outputs": [],
   "source": [
    "# x=np.array(x).astype(float)\n",
    "# from scipy.stats import zscore\n",
    "# z_score = zscore(x)"
   ]
  },
  {
   "cell_type": "code",
   "execution_count": 24,
   "metadata": {},
   "outputs": [],
   "source": [
    "x_OHE = df_OHE.iloc[:,12:]"
   ]
  },
  {
   "cell_type": "code",
   "execution_count": 26,
   "metadata": {},
   "outputs": [],
   "source": [
    "x_final = np.concatenate((x_nor, x_OHE), axis=1)"
   ]
  },
  {
   "cell_type": "code",
   "execution_count": 27,
   "metadata": {},
   "outputs": [
    {
     "data": {
      "text/plain": [
       "(17517, 23)"
      ]
     },
     "execution_count": 27,
     "metadata": {},
     "output_type": "execute_result"
    }
   ],
   "source": [
    "x_final.shape"
   ]
  },
  {
   "cell_type": "code",
   "execution_count": 59,
   "metadata": {},
   "outputs": [
    {
     "data": {
      "text/plain": [
       "array([[0.43902439, 0.01949318, 0.        , ..., 0.        , 0.        ,\n",
       "        0.        ],\n",
       "       [0.43902439, 0.0214425 , 0.        , ..., 0.        , 0.        ,\n",
       "        0.        ],\n",
       "       [0.43902439, 0.02241715, 0.        , ..., 0.        , 0.        ,\n",
       "        1.        ],\n",
       "       ...,\n",
       "       [0.36585366, 0.02436647, 0.05882353, ..., 0.        , 0.        ,\n",
       "        1.        ],\n",
       "       [0.36585366, 0.0214425 , 0.05882353, ..., 0.        , 0.        ,\n",
       "        1.        ],\n",
       "       [0.36585366, 0.01851852, 0.05882353, ..., 0.        , 0.        ,\n",
       "        1.        ]])"
      ]
     },
     "execution_count": 59,
     "metadata": {},
     "output_type": "execute_result"
    }
   ],
   "source": [
    "x_final"
   ]
  },
  {
   "cell_type": "code",
   "execution_count": 28,
   "metadata": {},
   "outputs": [],
   "source": [
    "y = df_OHE.iloc[:,6]"
   ]
  },
  {
   "cell_type": "code",
   "execution_count": 29,
   "metadata": {},
   "outputs": [
    {
     "data": {
      "text/plain": [
       "0        16\n",
       "1        13\n",
       "2        16\n",
       "3         9\n",
       "4        17\n",
       "         ..\n",
       "17512    13\n",
       "17513    17\n",
       "17514    13\n",
       "17515     4\n",
       "17516     1\n",
       "Name: PM2.5, Length: 17517, dtype: int64"
      ]
     },
     "execution_count": 29,
     "metadata": {},
     "output_type": "execute_result"
    }
   ],
   "source": [
    "y"
   ]
  },
  {
   "cell_type": "code",
   "execution_count": 30,
   "metadata": {},
   "outputs": [],
   "source": [
    "y1 = []                \n",
    "for i in y:\n",
    "    if i<=11:\n",
    "        y1.append(0)\n",
    "    elif 11<i<=23:\n",
    "        y1.append(1)\n",
    "    elif 23<i<=35:\n",
    "        y1.append(2)\n",
    "    elif 36<i<=41:\n",
    "        y1.append(3)\n",
    "    elif 41<i<=47:\n",
    "        y1.append(4)\n",
    "    elif 47<i<=53:\n",
    "        y1.append(5)\n",
    "    elif 53<i<=58:\n",
    "        y1.append(6)\n",
    "    elif 58<i<=64:\n",
    "        y1.append(7)\n",
    "    elif 64<i<=70:\n",
    "        y1.append(8)\n",
    "    else:\n",
    "        y1.append(9)\n",
    "y1 = np.array(y1)"
   ]
  },
  {
   "cell_type": "code",
   "execution_count": 31,
   "metadata": {},
   "outputs": [
    {
     "data": {
      "text/plain": [
       "(17517,)"
      ]
     },
     "execution_count": 31,
     "metadata": {},
     "output_type": "execute_result"
    }
   ],
   "source": [
    "y1.shape"
   ]
  },
  {
   "cell_type": "code",
   "execution_count": 32,
   "metadata": {},
   "outputs": [],
   "source": [
    "from keras.utils import np_utils\n",
    "y2 = np_utils.to_categorical(y1,10)"
   ]
  },
  {
   "cell_type": "code",
   "execution_count": 33,
   "metadata": {},
   "outputs": [],
   "source": [
    "y_train=y2[8:]"
   ]
  },
  {
   "cell_type": "code",
   "execution_count": 34,
   "metadata": {},
   "outputs": [
    {
     "data": {
      "text/plain": [
       "(17509, 10)"
      ]
     },
     "execution_count": 34,
     "metadata": {},
     "output_type": "execute_result"
    }
   ],
   "source": [
    "y_train.shape"
   ]
  },
  {
   "cell_type": "code",
   "execution_count": 35,
   "metadata": {},
   "outputs": [],
   "source": [
    "def creat_dataset(ds, look_back=1):\n",
    "    x_data = []\n",
    "    for i in range(len(ds)-look_back):\n",
    "        x_data.append(ds[i:(i+look_back), :])        \n",
    "#         y_data.append(ds[i+look_back, 0])\n",
    "    return np.array(x_data)# , np.array(y_data)"
   ]
  },
  {
   "cell_type": "code",
   "execution_count": 36,
   "metadata": {},
   "outputs": [
    {
     "name": "stdout",
     "output_type": "stream",
     "text": [
      "過去時數: 8\n",
      "x_train shape: (17509, 8, 23)\n"
     ]
    }
   ],
   "source": [
    "look_back = 8 \n",
    "x_train = creat_dataset(x_final, look_back)\n",
    "print('過去時數:', look_back)\n",
    "print('x_train shape:', x_train.shape)\n",
    "# print('y_train shape:', y_train.shape)"
   ]
  },
  {
   "cell_type": "code",
   "execution_count": 37,
   "metadata": {},
   "outputs": [],
   "source": [
    "np.random.seed(10)"
   ]
  },
  {
   "cell_type": "code",
   "execution_count": null,
   "metadata": {},
   "outputs": [],
   "source": [
    "# sc = MinMaxScaler()"
   ]
  },
  {
   "cell_type": "code",
   "execution_count": null,
   "metadata": {},
   "outputs": [],
   "source": [
    "# x_train_set = sc.fit_transform(x)"
   ]
  },
  {
   "cell_type": "code",
   "execution_count": null,
   "metadata": {},
   "outputs": [],
   "source": [
    "# x_train_set.shape"
   ]
  },
  {
   "cell_type": "code",
   "execution_count": 39,
   "metadata": {},
   "outputs": [
    {
     "name": "stdout",
     "output_type": "stream",
     "text": [
      "x_train.shape: (17509, 8, 23)\n"
     ]
    }
   ],
   "source": [
    "x_train = np.reshape(x_train, (x_train.shape[0], x_train.shape[1], 23))\n",
    "print('x_train.shape:', x_train.shape)"
   ]
  },
  {
   "cell_type": "code",
   "execution_count": 40,
   "metadata": {},
   "outputs": [
    {
     "data": {
      "text/plain": [
       "7001.6"
      ]
     },
     "execution_count": 40,
     "metadata": {},
     "output_type": "execute_result"
    }
   ],
   "source": [
    "8752*0.8"
   ]
  },
  {
   "cell_type": "code",
   "execution_count": 41,
   "metadata": {},
   "outputs": [],
   "source": [
    "x_tr, y_tr = x_train[:7002], y_train[:7002]\n",
    "x_test, y_test = x_train[7002:], y_train[7002:]"
   ]
  },
  {
   "cell_type": "code",
   "execution_count": 42,
   "metadata": {},
   "outputs": [],
   "source": [
    "from keras.layers import Conv2D, MaxPool2D, Activation, Embedding"
   ]
  },
  {
   "cell_type": "code",
   "execution_count": 68,
   "metadata": {},
   "outputs": [],
   "source": [
    "model = Sequential()\n",
    "\n",
    "model.add(LSTM(50, return_sequences=True, input_shape=(x_train.shape[1], 23)))\n",
    "# model.add(Dropout(0.2))\n",
    "# model.add(LSTM(50, return_sequences=True))\n",
    "# model.add(Dropout(0.2))\n",
    "model.add(LSTM(50))\n",
    "# model.add(Dropout(0.2))\n",
    "model.add(Dense(10, activation = 'softmax'))"
   ]
  },
  {
   "cell_type": "code",
   "execution_count": 69,
   "metadata": {},
   "outputs": [
    {
     "name": "stdout",
     "output_type": "stream",
     "text": [
      "Model: \"sequential_5\"\n",
      "_________________________________________________________________\n",
      "Layer (type)                 Output Shape              Param #   \n",
      "=================================================================\n",
      "lstm_9 (LSTM)                (None, 8, 50)             14800     \n",
      "_________________________________________________________________\n",
      "lstm_10 (LSTM)               (None, 50)                20200     \n",
      "_________________________________________________________________\n",
      "dense_5 (Dense)              (None, 10)                510       \n",
      "=================================================================\n",
      "Total params: 35,510\n",
      "Trainable params: 35,510\n",
      "Non-trainable params: 0\n",
      "_________________________________________________________________\n"
     ]
    }
   ],
   "source": [
    "model.summary()"
   ]
  },
  {
   "cell_type": "code",
   "execution_count": 70,
   "metadata": {},
   "outputs": [],
   "source": [
    "from keras import optimizers"
   ]
  },
  {
   "cell_type": "code",
   "execution_count": 71,
   "metadata": {},
   "outputs": [],
   "source": [
    "from keras.callbacks import ReduceLROnPlateau\n",
    "\n",
    "lrfunc = ReduceLROnPlateau(monitor=\"accuracy\",\n",
    "                           patience=2,factor=0.02,\n",
    "                           min_lr=0.0000001)"
   ]
  },
  {
   "cell_type": "code",
   "execution_count": 48,
   "metadata": {},
   "outputs": [
    {
     "name": "stdout",
     "output_type": "stream",
     "text": [
      "Train on 5601 samples, validate on 1401 samples\n",
      "Epoch 1/15\n",
      "5601/5601 [==============================] - 2s 276us/step - loss: 1.6119 - accuracy: 0.4371 - val_loss: 1.3375 - val_accuracy: 0.4383\n",
      "Epoch 2/15\n",
      "5601/5601 [==============================] - 1s 170us/step - loss: 1.3641 - accuracy: 0.4519 - val_loss: 1.2335 - val_accuracy: 0.4490\n",
      "Epoch 3/15\n",
      "5601/5601 [==============================] - 1s 153us/step - loss: 1.2459 - accuracy: 0.4835 - val_loss: 1.0546 - val_accuracy: 0.5760\n",
      "Epoch 4/15\n",
      "5601/5601 [==============================] - 1s 131us/step - loss: 1.2025 - accuracy: 0.4910 - val_loss: 1.1310 - val_accuracy: 0.4839\n",
      "Epoch 5/15\n",
      "5601/5601 [==============================] - 1s 129us/step - loss: 1.1578 - accuracy: 0.5137 - val_loss: 1.0101 - val_accuracy: 0.5803\n",
      "Epoch 6/15\n",
      "5601/5601 [==============================] - 1s 128us/step - loss: 1.1182 - accuracy: 0.5319 - val_loss: 1.0094 - val_accuracy: 0.5703\n",
      "Epoch 7/15\n",
      "5601/5601 [==============================] - 1s 129us/step - loss: 1.1022 - accuracy: 0.5349 - val_loss: 0.9970 - val_accuracy: 0.5732\n",
      "Epoch 8/15\n",
      "5601/5601 [==============================] - 1s 131us/step - loss: 1.0914 - accuracy: 0.5345 - val_loss: 0.9895 - val_accuracy: 0.5889\n",
      "Epoch 9/15\n",
      "5601/5601 [==============================] - 1s 130us/step - loss: 1.0675 - accuracy: 0.5488 - val_loss: 0.9553 - val_accuracy: 0.6074\n",
      "Epoch 10/15\n",
      "5601/5601 [==============================] - 1s 135us/step - loss: 1.0462 - accuracy: 0.5620 - val_loss: 0.9495 - val_accuracy: 0.5996\n",
      "Epoch 11/15\n",
      "5601/5601 [==============================] - 1s 129us/step - loss: 1.0402 - accuracy: 0.5640 - val_loss: 1.0307 - val_accuracy: 0.5603\n",
      "Epoch 12/15\n",
      "5601/5601 [==============================] - 1s 130us/step - loss: 1.0377 - accuracy: 0.5549 - val_loss: 1.0238 - val_accuracy: 0.5589\n",
      "Epoch 13/15\n",
      "5601/5601 [==============================] - 1s 131us/step - loss: 1.0093 - accuracy: 0.5747 - val_loss: 0.9196 - val_accuracy: 0.6188\n",
      "Epoch 14/15\n",
      "5601/5601 [==============================] - 1s 132us/step - loss: 0.9940 - accuracy: 0.5815 - val_loss: 0.9034 - val_accuracy: 0.6231\n",
      "Epoch 15/15\n",
      "5601/5601 [==============================] - 1s 130us/step - loss: 0.9740 - accuracy: 0.5892 - val_loss: 0.8989 - val_accuracy: 0.6260\n"
     ]
    }
   ],
   "source": [
    "model.compile(loss='categorical_crossentropy', optimizer=optimizers.Adam(lr=0.001),metrics = ['accuracy'])\n",
    "\n",
    "history = model.fit(x_tr, y_tr, validation_split=0.2, epochs=15, batch_size=100, callbacks=[lrfunc])"
   ]
  },
  {
   "cell_type": "code",
   "execution_count": 49,
   "metadata": {},
   "outputs": [
    {
     "data": {
      "image/png": "[encoded data removed]",
      "text/plain": [
       "<Figure size 432x288 with 1 Axes>"
      ]
     },
     "metadata": {
      "needs_background": "light"
     },
     "output_type": "display_data"
    }
   ],
   "source": [
    "import matplotlib.pyplot as plt\n",
    "loss = history.history['loss']\n",
    "epochs = range(1, len(loss)+1)\n",
    "val_loss = history.history['val_loss']\n",
    "plt.plot(epochs, loss, 'b-',label='Train')\n",
    "plt.plot(epochs, val_loss,'g-',label='Test')\n",
    "plt.title('LT_train')\n",
    "plt.xlabel('Epohs')\n",
    "plt.xlabel('Loss')\n",
    "plt.legend()\n",
    "plt.show()"
   ]
  },
  {
   "cell_type": "code",
   "execution_count": 50,
   "metadata": {},
   "outputs": [
    {
     "data": {
      "image/png": "[encoded data removed]",
      "text/plain": [
       "<Figure size 432x288 with 1 Axes>"
      ]
     },
     "metadata": {
      "needs_background": "light"
     },
     "output_type": "display_data"
    }
   ],
   "source": [
    "acc = history.history['accuracy']\n",
    "epochs = range(1, len(acc)+1)\n",
    "val_acc = history.history['val_accuracy']\n",
    "plt.plot(epochs, acc, 'b-',label='Train')\n",
    "plt.plot(epochs, val_acc,'g-',label='Test')\n",
    "plt.title('LT_train')\n",
    "plt.xlabel('Epohs')\n",
    "plt.ylabel('Accuracy')\n",
    "plt.legend()\n",
    "plt.show()"
   ]
  },
  {
   "cell_type": "code",
   "execution_count": 72,
   "metadata": {},
   "outputs": [
    {
     "name": "stdout",
     "output_type": "stream",
     "text": [
      "Train on 7002 samples, validate on 10507 samples\n",
      "Epoch 1/15\n",
      "7002/7002 [==============================] - 2s 287us/step - loss: 1.6930 - accuracy: 0.4172 - val_loss: 1.4540 - val_accuracy: 0.4011\n",
      "Epoch 2/15\n",
      "7002/7002 [==============================] - 1s 177us/step - loss: 1.3720 - accuracy: 0.4487 - val_loss: 1.4098 - val_accuracy: 0.4011\n",
      "Epoch 3/15\n",
      "7002/7002 [==============================] - 1s 178us/step - loss: 1.3095 - accuracy: 0.4517 - val_loss: 1.3397 - val_accuracy: 0.4390\n",
      "Epoch 4/15\n",
      "7002/7002 [==============================] - 1s 179us/step - loss: 1.2230 - accuracy: 0.4871 - val_loss: 1.2564 - val_accuracy: 0.4845\n",
      "Epoch 5/15\n",
      "7002/7002 [==============================] - 1s 178us/step - loss: 1.1658 - accuracy: 0.5101 - val_loss: 1.2133 - val_accuracy: 0.5166\n",
      "Epoch 6/15\n",
      "7002/7002 [==============================] - 1s 186us/step - loss: 1.1368 - accuracy: 0.5186 - val_loss: 1.2301 - val_accuracy: 0.5117\n",
      "Epoch 7/15\n",
      "7002/7002 [==============================] - 1s 179us/step - loss: 1.1270 - accuracy: 0.5273 - val_loss: 1.2118 - val_accuracy: 0.5263\n",
      "Epoch 8/15\n",
      "7002/7002 [==============================] - 1s 181us/step - loss: 1.1133 - accuracy: 0.5320 - val_loss: 1.1839 - val_accuracy: 0.5324\n",
      "Epoch 9/15\n",
      "7002/7002 [==============================] - 1s 194us/step - loss: 1.0861 - accuracy: 0.5431 - val_loss: 1.1645 - val_accuracy: 0.5382\n",
      "Epoch 10/15\n",
      "7002/7002 [==============================] - 1s 177us/step - loss: 1.0781 - accuracy: 0.5507 - val_loss: 1.1727 - val_accuracy: 0.5187\n",
      "Epoch 11/15\n",
      "7002/7002 [==============================] - 1s 185us/step - loss: 1.0693 - accuracy: 0.5557 - val_loss: 1.1826 - val_accuracy: 0.5051\n",
      "Epoch 12/15\n",
      "7002/7002 [==============================] - 1s 195us/step - loss: 1.0690 - accuracy: 0.5454 - val_loss: 1.1575 - val_accuracy: 0.5240\n",
      "Epoch 13/15\n",
      "7002/7002 [==============================] - 1s 209us/step - loss: 1.0623 - accuracy: 0.5567 - val_loss: 1.1609 - val_accuracy: 0.5494\n",
      "Epoch 14/15\n",
      "7002/7002 [==============================] - 1s 184us/step - loss: 1.0353 - accuracy: 0.5613 - val_loss: 1.1319 - val_accuracy: 0.5500\n",
      "Epoch 15/15\n",
      "7002/7002 [==============================] - 1s 184us/step - loss: 1.0141 - accuracy: 0.5746 - val_loss: 1.1141 - val_accuracy: 0.5513\n"
     ]
    }
   ],
   "source": [
    "model.compile(loss='categorical_crossentropy', optimizer=optimizers.Adam(lr=0.001),metrics = ['accuracy'])\n",
    "\n",
    "history = model.fit(x_tr, y_tr, validation_data=(x_test, y_test), shuffle=True, epochs=15, batch_size=200, callbacks=[lrfunc])"
   ]
  },
  {
   "cell_type": "code",
   "execution_count": 73,
   "metadata": {},
   "outputs": [
    {
     "data": {
      "image/png": "[encoded data removed]",
      "text/plain": [
       "<Figure size 432x288 with 1 Axes>"
      ]
     },
     "metadata": {
      "needs_background": "light"
     },
     "output_type": "display_data"
    }
   ],
   "source": [
    "import matplotlib.pyplot as plt\n",
    "loss = history.history['loss']\n",
    "epochs = range(1, len(loss)+1)\n",
    "val_loss = history.history['val_loss']\n",
    "plt.plot(epochs, loss, 'b-',label='Train')\n",
    "plt.plot(epochs, val_loss,'g-',label='Test')\n",
    "plt.title('LT_test')\n",
    "plt.xlabel('Epohs')\n",
    "plt.ylabel('Loss')\n",
    "plt.legend()\n",
    "plt.show()"
   ]
  },
  {
   "cell_type": "code",
   "execution_count": 74,
   "metadata": {},
   "outputs": [
    {
     "data": {
      "image/png": "[encoded data removed]",
      "text/plain": [
       "<Figure size 432x288 with 1 Axes>"
      ]
     },
     "metadata": {
      "needs_background": "light"
     },
     "output_type": "display_data"
    }
   ],
   "source": [
    "acc = history.history['accuracy']\n",
    "epochs = range(1, len(acc)+1)\n",
    "val_acc = history.history['val_accuracy']\n",
    "plt.plot(epochs, acc, 'b-',label='Train')\n",
    "plt.plot(epochs, val_acc,'g-',label='Test')\n",
    "plt.title('LT_test')\n",
    "plt.xlabel('Epohs')\n",
    "plt.ylabel('Accuracy')\n",
    "plt.legend()\n",
    "plt.show()"
   ]
  },
  {
   "cell_type": "code",
   "execution_count": null,
   "metadata": {},
   "outputs": [],
   "source": [
    "loss, accuracy = model.evaluate(x_tr, y_tr)\n",
    "print('準確率:',accuracy,'loss:',loss)\n",
    "loss_test, accuracy_test = model.evaluate(x_test, y_test)\n",
    "print('準確率:',accuracy_test,'loss:',loss_test)"
   ]
  },
  {
   "cell_type": "code",
   "execution_count": 75,
   "metadata": {},
   "outputs": [
    {
     "name": "stdout",
     "output_type": "stream",
     "text": [
      "10507/10507 [==============================] - 1s 71us/step\n",
      "準確率: 0.5512515306472778 loss: 1.1140801494396344\n"
     ]
    }
   ],
   "source": [
    "loss_test, accuracy_test = model.evaluate(x_test, y_test)\n",
    "print('準確率:',accuracy_test,'loss:',loss_test)"
   ]
  },
  {
   "cell_type": "code",
   "execution_count": null,
   "metadata": {},
   "outputs": [],
   "source": []
  }
 ],
 "metadata": {
  "kernelspec": {
   "display_name": "Python 3",
   "language": "python",
   "name": "python3"
  },
  "language_info": {
   "codemirror_mode": {
    "name": "ipython",
    "version": 3
   },
   "file_extension": ".py",
   "mimetype": "text/x-python",
   "name": "python",
   "nbconvert_exporter": "python",
   "pygments_lexer": "ipython3",
   "version": "3.6.8"
  }
 },
 "nbformat": 4,
 "nbformat_minor": 2
}
